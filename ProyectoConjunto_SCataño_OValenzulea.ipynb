{
 "cells": [
  {
   "cell_type": "markdown",
   "id": "710d9d04",
   "metadata": {},
   "source": [
    "<img style=\"float: left; margin: 30px 15px 15px 15px;\" src=\"https://pngimage.net/wp-content/uploads/2018/06/logo-iteso-png-5.png\" width=\"300\" height=\"500\" /> \n",
    "    \n",
    "    \n",
    "### <font color='navy'> Simulación de procesos financieros. \n",
    "\n",
    "**Nombres:** Santiago Cataño y Osckar Valenzuela.\n",
    "\n",
    "**Fecha:** 09 de febrero del 2023\n",
    "\n",
    "**Expediente** : 727527 y 749803.\n",
    "**Profesor:** Oscar David Jaramillo Zuluaga.\n",
    "    \n",
    "**Link Github**: https://github.com/Santiagocb17/Tarea_2_SPF.git"
   ]
  },
  {
   "cell_type": "markdown",
   "id": "2add38bc",
   "metadata": {},
   "source": [
    "# Tarea 2:"
   ]
  },
  {
   "attachments": {
    "image.png": {
     "image/png": "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"
    }
   },
   "cell_type": "markdown",
   "id": "dba4e8ba",
   "metadata": {},
   "source": [
    "### Ejercicio 1\n",
    "1. Imagine una rutina contable utilizada en una librería. Funciona en una lista con sublistas, que se ven así:\n",
    "![image.png](attachment:image.png)\n",
    "Escriba un programa en Python, que devuelve una lista con tuplas de tamaño 2. Cada tupla consiste en el número de pedido y el costo total del pedido. El producto debe aumentarse en 10€ si el valor de la orden es inferior a 100,00 €. \n",
    "Escribe un programa Python usando unicamente las funciones **lambda y map**.\n",
    "\n",
    "`orders = [ [\"34587\", \"Learning Python, Mark Lutz\", 4, 40.95], \n",
    "           [\"98762\", \"Programming Python, Mark Lutz\", 5, 56.80], \n",
    "           [\"77226\", \"Head First Python, Paul Barry\", 3,32.95],\n",
    "           [\"88112\", \"Einführung in Python3, Bernd Klein\", 3, 24.99]]`\n",
    "           "
   ]
  },
  {
   "cell_type": "markdown",
   "id": "82d99e06",
   "metadata": {},
   "source": [
    "Código de solución estudiante 1"
   ]
  },
  {
   "cell_type": "code",
<<<<<<< HEAD:Tarea_2_prueba.ipynb
   "execution_count": 1,
=======
   "execution_count": null,
>>>>>>> master:ProyectoConjunto_SCataño_OValenzulea.ipynb
   "id": "661a0204",
   "metadata": {},
   "outputs": [
    {
     "data": {
      "text/plain": [
       "[('34587', 163.8),\n",
       " ('98762', 284.0),\n",
       " ('77226', 108.85000000000001),\n",
       " ('88112', 84.97)]"
      ]
     },
     "execution_count": 1,
     "metadata": {},
     "output_type": "execute_result"
    }
   ],
   "source": [
    "# Código de solución estudiante 1\n",
    "########### Solución 1\n",
    "orders = [ [\"34587\", \"Learning Python, Mark Lutz\", 4, 40.95], \n",
    "           [\"98762\", \"Programming Python, Mark Lutz\", 5, 56.80], \n",
    "           [\"77226\", \"Head First Python, Paul Barry\", 3,32.95],\n",
    "           [\"88112\", \"Einführung in Python3, Bernd Klein\", 3, 24.99]]\n",
    "\n",
    "sumar = lambda x: x+10 if x<100 else x\n",
    "\n",
    "solucion1 = list(map(lambda x: (x[0], sumar(x[2]*x[3])), orders))\n",
    "solucion1\n"
   ]
  },
  {
   "cell_type": "code",
   "execution_count": 3,
   "id": "527cc2d7",
   "metadata": {},
   "outputs": [
    {
     "data": {
      "text/plain": [
       "[(1, 688.3299999999999),\n",
       " (2, 504.46000000000004),\n",
       " (3, 374.79999999999995),\n",
       " (4, 502.57)]"
      ]
     },
     "execution_count": 3,
     "metadata": {},
     "output_type": "execute_result"
    }
   ],
   "source": [
    "########### Solución 2\n",
    "from functools import reduce\n",
    "orders = [[1, (\"5464\", 4, 9.99), (\"8274\",18,12.99), (\"9744\", 9, 44.95)], \n",
    "          [2, (\"5464\", 9, 9.99), (\"9744\", 9, 44.95)],\n",
    "          [3, (\"5464\", 9, 9.99), (\"88112\", 11, 24.99)],\n",
    "          [4, (\"8732\", 7, 11.99), (\"7733\",11,18.99), (\"88112\", 5, 39.95)] ]\n",
    "\n",
    "f2 = list(map(lambda x: (x[0], sum(list(map(lambda x2: sumar(x2[1] * x2[2]) ,x[1:])))), orders))\n",
    "f2"
   ]
  },
  {
   "cell_type": "code",
   "execution_count": 4,
   "id": "cfbe7a48",
   "metadata": {},
   "outputs": [
    {
     "data": {
      "text/plain": [
       "[(1, 688.3299999999999),\n",
       " (2, 504.46000000000004),\n",
       " (3, 374.79999999999995),\n",
       " (4, 502.57)]"
      ]
     },
     "execution_count": 4,
     "metadata": {},
     "output_type": "execute_result"
    }
   ],
   "source": [
    "#### Solución ejercicio 2 correcta (Usando reduce)\n",
    "f3 = list(map(lambda x: (x[0], list(map(lambda x2: sumar(x2[1] * x2[2]) ,x[1:]))), orders))\n",
    "\n",
    "[(values[0], reduce(lambda x, y: x + y, values[1:][0])) for values in f3]"
   ]
  },
  {
   "cell_type": "code",
   "execution_count": 5,
   "id": "63f795b7",
   "metadata": {},
   "outputs": [
    {
     "name": "stdout",
     "output_type": "stream",
     "text": [
      "['notion', 'lambda', 'function', 'goes', 'back', 'origin', 'computer', 'science']\n"
     ]
    }
   ],
   "source": [
    "### Solución ejercicio 4\n",
    "lista_00 = \"the notion of a lambda function goes all the way back to the origin of computer science\".split()\n",
    "\n",
    "resultado = list(filter(lambda x: len(x)>=4, lista_00))\n",
    "print (resultado)"
   ]
  },
  {
   "cell_type": "markdown",
   "id": "2daa7a73",
   "metadata": {},
   "source": [
    "Código de solución estudiante 2"
   ]
  },
  {
   "cell_type": "code",
   "execution_count": 1,
   "id": "a12a03fa",
   "metadata": {},
   "outputs": [],
   "source": [
    "import numpy as np"
   ]
  },
  {
   "cell_type": "code",
   "execution_count": 13,
   "id": "fec14460",
   "metadata": {},
   "outputs": [],
   "source": [
    "order = [ [\"34587\", \"Learning Python, Mark Lutz\", 4, 40.95], \n",
    "           [\"98762\", \"Programming Python, Mark Lutz\", 5, 56.80], \n",
    "           [\"77226\", \"Head First Python, Paul Barry\", 3,32.95],\n",
    "           [\"88112\", \"Einführung in Python3, Bernd Klein\", 3, 24.99]]\n",
    "\n"
   ]
  },
  {
   "cell_type": "code",
   "execution_count": 14,
   "id": "91e17e4f",
   "metadata": {},
   "outputs": [
    {
     "data": {
      "text/plain": [
       "[('34587', 163.8),\n",
       " ('98762', 284.0),\n",
       " ('77226', 108.85000000000001),\n",
       " ('88112', 84.97)]"
      ]
     },
     "execution_count": 14,
     "metadata": {},
     "output_type": "execute_result"
    }
   ],
   "source": [
    "aumentar= lambda x: x+10 if x < 100 else x\n",
    "\n",
    "final= list(map(lambda x:(x[0], aumentar(x[2]*x[3])) ,order))\n",
    "final"
   ]
  },
  {
   "cell_type": "markdown",
   "id": "35f5eb0d",
   "metadata": {},
   "source": []
  },
  {
   "cell_type": "markdown",
   "id": "cc4cde58",
   "metadata": {},
   "source": [
    "### Ejercicio 2\n",
    "2. La misma librería, pero esta vez trabajamos en una lista diferente. Las sublistas de nuestras listas se ven así: \n",
    "[número de orden, (número de artículo, cantidad, precio por unidad), ... (número de artículo, cantidad, precio por unidad)] \n",
    "\n",
    "`orders = [[1, (\"5464\", 4, 9.99), (\"8274\",18,12.99), (\"9744\", 9, 44.95)], \n",
    "\t       [2, (\"5464\", 9, 9.99), (\"9744\", 9, 44.95)],\n",
    "\t       [3, (\"5464\", 9, 9.99), (\"88112\", 11, 24.99)],\n",
    "           [4, (\"8732\", 7, 11.99), (\"7733\",11,18.99), (\"88112\", 5, 39.95)] ]`\n",
    "\n",
    "Escriba un programa que devuelva una lista de dos tuplas que tengan la información de (número de pedido, cantidad total de pedido). Utilice la función `Reduce`. Recuerde el precio del pedido del producto debe aumentarse en 10€ si el valor de la orden es inferior a 100,00 €."
   ]
  },
  {
   "cell_type": "markdown",
   "id": "e64de668",
   "metadata": {},
   "source": [
    "codigo estudiante 1"
   ]
  },
  {
   "cell_type": "markdown",
   "id": "7104f72b",
   "metadata": {},
   "source": [
    "codigo estudiante 2"
   ]
  },
  {
   "cell_type": "code",
   "execution_count": 35,
   "id": "bb963c84",
   "metadata": {},
   "outputs": [],
   "source": [
    "orders = [ [1, (\"5464\", 4, 9.99), (\"8274\",18,12.99), (\"9744\", 9, 44.95)], \n",
    "           [2, (\"5464\", 9, 9.99), (\"9744\", 9, 44.95)],\n",
    "           [3, (\"5464\", 9, 9.99), (\"88112\", 11, 24.99)],\n",
    "           [4, (\"8732\", 7, 11.99), (\"7733\",11,18.99), (\"88112\", 5, 39.95)] ]"
   ]
  },
  {
   "cell_type": "code",
   "execution_count": 28,
   "id": "17e83503",
   "metadata": {},
   "outputs": [],
   "source": [
    "import numpy as np\n",
    "from functools import reduce "
   ]
  },
  {
   "cell_type": "code",
   "execution_count": 31,
   "id": "ff288840",
   "metadata": {},
   "outputs": [
    {
     "data": {
      "text/plain": [
       "[(1, 688.3299999999999),\n",
       " (2, 504.46000000000004),\n",
       " (3, 374.79999999999995),\n",
       " (4, 502.57)]"
      ]
     },
     "execution_count": 31,
     "metadata": {},
     "output_type": "execute_result"
    }
   ],
   "source": [
    "p=lambda value3: value3+10 if value3<100 else value3\n",
    "\n",
    "costo_pedido2= [[i[2]*i[1] for i in x[1:]] for x in orders]\n",
    "costo_final2=list(map(p,i)for i in costo_pedido2)\n",
    "\n",
    "suma=[reduce(lambda x,y: x+y,i)for i in costo_final2]\n",
    "resultado= list(map(lambda w,z: (w[0],z),orders,suma))\n",
    "resultado"
   ]
  },
  {
   "cell_type": "markdown",
   "id": "0d1c3d20",
   "metadata": {},
   "source": [
    "### Ejercicio 3\n",
    "3. Resolver los anteriores ejercicios usando pandas (DataFrame)\n"
   ]
  },
  {
   "cell_type": "markdown",
   "id": "384747d2",
   "metadata": {},
   "source": [
    "codigo estudiante 1"
   ]
  },
  {
   "cell_type": "markdown",
   "id": "49216837",
   "metadata": {},
   "source": [
    "codigo estudiante 2"
   ]
  },
  {
   "cell_type": "code",
   "execution_count": 16,
   "id": "61f12087",
   "metadata": {
    "scrolled": true
   },
   "outputs": [
    {
     "data": {
      "text/html": [
       "<div>\n",
       "<style scoped>\n",
       "    .dataframe tbody tr th:only-of-type {\n",
       "        vertical-align: middle;\n",
       "    }\n",
       "\n",
       "    .dataframe tbody tr th {\n",
       "        vertical-align: top;\n",
       "    }\n",
       "\n",
       "    .dataframe thead th {\n",
       "        text-align: right;\n",
       "    }\n",
       "</style>\n",
       "<table border=\"1\" class=\"dataframe\">\n",
       "  <thead>\n",
       "    <tr style=\"text-align: right;\">\n",
       "      <th></th>\n",
       "      <th>0</th>\n",
       "      <th>1</th>\n",
       "      <th>2</th>\n",
       "      <th>3</th>\n",
       "    </tr>\n",
       "  </thead>\n",
       "  <tbody>\n",
       "    <tr>\n",
       "      <th>0</th>\n",
       "      <td>1</td>\n",
       "      <td>(5464, 4, 9.99)</td>\n",
       "      <td>(8274, 18, 12.99)</td>\n",
       "      <td>(9744, 9, 44.95)</td>\n",
       "    </tr>\n",
       "    <tr>\n",
       "      <th>1</th>\n",
       "      <td>2</td>\n",
       "      <td>(5464, 9, 9.99)</td>\n",
       "      <td>(9744, 9, 44.95)</td>\n",
       "      <td>None</td>\n",
       "    </tr>\n",
       "    <tr>\n",
       "      <th>2</th>\n",
       "      <td>3</td>\n",
       "      <td>(5464, 9, 9.99)</td>\n",
       "      <td>(88112, 11, 24.99)</td>\n",
       "      <td>None</td>\n",
       "    </tr>\n",
       "    <tr>\n",
       "      <th>3</th>\n",
       "      <td>4</td>\n",
       "      <td>(8732, 7, 11.99)</td>\n",
       "      <td>(7733, 11, 18.99)</td>\n",
       "      <td>(88112, 5, 39.95)</td>\n",
       "    </tr>\n",
       "  </tbody>\n",
       "</table>\n",
       "</div>"
      ],
      "text/plain": [
       "   0                 1                   2                  3\n",
       "0  1   (5464, 4, 9.99)   (8274, 18, 12.99)   (9744, 9, 44.95)\n",
       "1  2   (5464, 9, 9.99)    (9744, 9, 44.95)               None\n",
       "2  3   (5464, 9, 9.99)  (88112, 11, 24.99)               None\n",
       "3  4  (8732, 7, 11.99)   (7733, 11, 18.99)  (88112, 5, 39.95)"
      ]
     },
     "execution_count": 16,
     "metadata": {},
     "output_type": "execute_result"
    }
   ],
   "source": [
    "import pandas as pd\n",
    "orders_df= pd.DataFrame(orders)\n",
    "orders_df"
   ]
  },
  {
   "cell_type": "code",
   "execution_count": 22,
   "id": "8e6979b9",
   "metadata": {},
   "outputs": [
    {
     "data": {
      "text/html": [
       "<div>\n",
       "<style scoped>\n",
       "    .dataframe tbody tr th:only-of-type {\n",
       "        vertical-align: middle;\n",
       "    }\n",
       "\n",
       "    .dataframe tbody tr th {\n",
       "        vertical-align: top;\n",
       "    }\n",
       "\n",
       "    .dataframe thead th {\n",
       "        text-align: right;\n",
       "    }\n",
       "</style>\n",
       "<table border=\"1\" class=\"dataframe\">\n",
       "  <thead>\n",
       "    <tr style=\"text-align: right;\">\n",
       "      <th></th>\n",
       "      <th>0</th>\n",
       "      <th>1</th>\n",
       "      <th>2</th>\n",
       "      <th>3</th>\n",
       "    </tr>\n",
       "  </thead>\n",
       "  <tbody>\n",
       "    <tr>\n",
       "      <th>0</th>\n",
       "      <td>1</td>\n",
       "      <td>(5464, 4, 9.99)</td>\n",
       "      <td>(8274, 18, 12.99)</td>\n",
       "      <td>(9744, 9, 44.95)</td>\n",
       "    </tr>\n",
       "    <tr>\n",
       "      <th>1</th>\n",
       "      <td>2</td>\n",
       "      <td>(5464, 9, 9.99)</td>\n",
       "      <td>(9744, 9, 44.95)</td>\n",
       "      <td>0</td>\n",
       "    </tr>\n",
       "    <tr>\n",
       "      <th>2</th>\n",
       "      <td>3</td>\n",
       "      <td>(5464, 9, 9.99)</td>\n",
       "      <td>(88112, 11, 24.99)</td>\n",
       "      <td>0</td>\n",
       "    </tr>\n",
       "    <tr>\n",
       "      <th>3</th>\n",
       "      <td>4</td>\n",
       "      <td>(8732, 7, 11.99)</td>\n",
       "      <td>(7733, 11, 18.99)</td>\n",
       "      <td>(88112, 5, 39.95)</td>\n",
       "    </tr>\n",
       "  </tbody>\n",
       "</table>\n",
       "</div>"
      ],
      "text/plain": [
       "   0                 1                   2                  3\n",
       "0  1   (5464, 4, 9.99)   (8274, 18, 12.99)   (9744, 9, 44.95)\n",
       "1  2   (5464, 9, 9.99)    (9744, 9, 44.95)                  0\n",
       "2  3   (5464, 9, 9.99)  (88112, 11, 24.99)                  0\n",
       "3  4  (8732, 7, 11.99)   (7733, 11, 18.99)  (88112, 5, 39.95)"
      ]
     },
     "execution_count": 22,
     "metadata": {},
     "output_type": "execute_result"
    }
   ],
   "source": [
    "orders_df.fillna(0, inplace=True)\n",
    "orders_df\n",
    "orders_df.apply(lambda x: x[3]if len (x[3]))"
   ]
  },
  {
   "cell_type": "code",
   "execution_count": 18,
   "id": "a89eda7e",
   "metadata": {},
   "outputs": [
    {
     "data": {
      "text/plain": [
       "0    18\n",
       "1     9\n",
       "2    11\n",
       "3    11\n",
       "dtype: int64"
      ]
     },
     "execution_count": 18,
     "metadata": {},
     "output_type": "execute_result"
    }
   ],
   "source": [
    "#def blibioteca(df):\n",
    "  #  filter_col= df[~df]\n",
    "   # if df [1]\n",
    "\n",
    "orders_df.apply(lambda x: (x[0],x[1][1], axis=1)"
   ]
  },
  {
   "cell_type": "markdown",
   "id": "ae0db139",
   "metadata": {},
   "source": [
    "### Ejercicio 4\n",
    "4. Use filter to eliminate all words that are shorter than 4 letters from a list of words\n",
    "`list='the notion of a lambda function goes all the way back to the origin of computer science'`\n"
   ]
  },
  {
   "cell_type": "markdown",
   "id": "e8ad5552",
   "metadata": {},
   "source": [
    "codigo estudiante 1"
   ]
  },
  {
   "cell_type": "markdown",
   "id": "431b5291",
   "metadata": {},
   "source": [
    "codigo estudiante 2"
   ]
  },
  {
   "cell_type": "code",
   "execution_count": 25,
   "id": "5a6e1bc3",
   "metadata": {},
   "outputs": [
    {
     "name": "stdout",
     "output_type": "stream",
     "text": [
      "['notion', 'lambda', 'function', 'goes', 'back', 'origin', 'computer', 'science']\n"
     ]
    }
   ],
   "source": [
    "words = 'the notion of a lambda function goes all the way back to the origin of computer science'.split()\n",
    "filtered_words = [word for word in words if len(word) >= 4]\n",
    "print(filtered_words)"
   ]
  },
  {
   "cell_type": "markdown",
   "id": "c1941420",
   "metadata": {},
   "source": [
    "### Ejercicio 5\n",
    "5. Use filter to determine the percentage of Fahrenheit temperatures in a list are within the range 32 to 80"
   ]
  },
  {
   "cell_type": "markdown",
   "id": "4fe205ab",
   "metadata": {},
   "source": [
    "codigo estudiante 1"
   ]
  },
  {
   "cell_type": "markdown",
   "id": "4b8e0053",
   "metadata": {},
   "source": [
    "codigo estudiante 2"
   ]
  },
  {
   "cell_type": "code",
   "execution_count": 33,
   "id": "e21732c5",
   "metadata": {},
   "outputs": [
    {
     "name": "stdout",
     "output_type": "stream",
     "text": [
      "[ 35.97387961  99.13294268  92.6178302   99.69549478  63.21119535\n",
      "  73.90387697  95.50028838  99.21476553  36.98251238 101.45813729\n",
      " 100.5917418   89.38159435  89.52156589  83.8084752   28.37990868\n",
      "  68.75395211  45.86132067  36.58307493  56.32208365  33.96219302\n",
      "  45.29071318  74.86289938  66.51091383  88.19316186  94.26635864\n",
      "  46.83131624 109.60744472 109.68427993  44.55796499  92.84146259]\n"
     ]
    },
    {
     "data": {
      "text/plain": [
       "[35.97387961379455,\n",
       " 63.211195349983264,\n",
       " 73.90387696517755,\n",
       " 36.982512376595906,\n",
       " 68.75395211338406,\n",
       " 45.86132066984196,\n",
       " 36.58307493022292,\n",
       " 56.322083650154724,\n",
       " 33.9621930206693,\n",
       " 45.29071317816652,\n",
       " 74.86289938282341,\n",
       " 66.51091382521807,\n",
       " 46.831316244170544,\n",
       " 44.55796498523391]"
      ]
     },
     "execution_count": 33,
     "metadata": {},
     "output_type": "execute_result"
    }
   ],
   "source": [
    "import numpy as np\n",
    "np.random.seed(55555)\n",
    "temperatures = np.random.uniform(25,110,30)\n",
    "print(temperatures)\n",
    "\n",
    "result2= list(filter(lambda temperatura: 32<= temperatura <=80,temperatures))\n",
    "result2"
   ]
  },
  {
   "cell_type": "markdown",
   "id": "1dab07a9",
   "metadata": {},
   "source": [
    "### Ejercicio 6\n",
    "6. Use reduce to find the lower left corner (minimum x and minimum y value) for a list of point locations\n",
    "> **Hint**: Explore the command `np.minimum.reduce` [link](https://docs.scipy.org/doc/numpy/reference/generated/numpy.ufunc.reduce.html)"
   ]
  },
  {
   "cell_type": "markdown",
   "id": "2d503366",
   "metadata": {},
   "source": [
    "codigo estudiante 1"
   ]
  },
  {
   "cell_type": "markdown",
   "id": "94f763e2",
   "metadata": {},
   "source": [
    "codigo estudiante 2"
   ]
  },
  {
   "cell_type": "code",
   "execution_count": 34,
   "id": "ca92d199",
   "metadata": {},
   "outputs": [
    {
     "name": "stdout",
     "output_type": "stream",
     "text": [
      "[[17 97]\n",
      " [22 33]\n",
      " [37 46]\n",
      " [57 28]\n",
      " [11 25]\n",
      " [14  2]\n",
      " [74 16]\n",
      " [12 37]\n",
      " [35 21]\n",
      " [66 65]\n",
      " [86 58]\n",
      " [67 81]\n",
      " [ 0 48]\n",
      " [28 66]\n",
      " [76 22]\n",
      " [46 47]\n",
      " [64  7]\n",
      " [88 94]\n",
      " [65 13]\n",
      " [75 89]\n",
      " [23 17]\n",
      " [36 63]\n",
      " [62 36]\n",
      " [64 17]\n",
      " [18 19]\n",
      " [88 41]\n",
      " [21 49]\n",
      " [98 36]\n",
      " [81 73]\n",
      " [62 90]]\n",
      "Lower left corner: (0, 2)\n"
     ]
    }
   ],
   "source": [
    "from functools import reduce\n",
    "np.random.seed(55555)\n",
    "point_xy = np.random.randint(0,100,[30,2])\n",
    "print(point_xy)\n",
    "\n",
    "def find_min_x_y(point1, point2):\n",
    "    return (min(point1[0], point2[0]), min(point1[1], point2[1]))\n",
    "\n",
    "lower_left_corner = reduce(find_min_x_y, point_xy)\n",
    "\n",
    "print(\"Lower left corner:\", lower_left_corner)"
   ]
  },
  {
   "cell_type": "code",
   "execution_count": null,
   "id": "b7f2e279",
   "metadata": {},
   "outputs": [],
   "source": []
  }
 ],
 "metadata": {
  "kernelspec": {
   "display_name": "Python 3",
   "language": "python",
   "name": "python3"
  },
  "language_info": {
   "codemirror_mode": {
    "name": "ipython",
    "version": 3
   },
   "file_extension": ".py",
   "mimetype": "text/x-python",
   "name": "python",
   "nbconvert_exporter": "python",
   "pygments_lexer": "ipython3",
   "version": "3.8.8"
  }
 },
 "nbformat": 4,
 "nbformat_minor": 5
}
